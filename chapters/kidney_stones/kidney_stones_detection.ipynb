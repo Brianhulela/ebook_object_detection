{
 "cells": [
  {
   "cell_type": "markdown",
   "id": "2d21700b-9884-4079-8e74-a5794dc232ce",
   "metadata": {},
   "source": [
    "# Training a Convolutional Neural Network for Kidney Stones Object Detection"
   ]
  },
  {
   "cell_type": "code",
   "execution_count": 1,
   "id": "7db44a2e-8887-4fb5-a5e9-cb024c0544c6",
   "metadata": {},
   "outputs": [
    {
     "name": "stdout",
     "output_type": "stream",
     "text": [
      "Collecting tabulate\n",
      "  Using cached tabulate-0.9.0-py3-none-any.whl (35 kB)\n",
      "Installing collected packages: tabulate\n",
      "Successfully installed tabulate-0.9.0\n",
      "Note: you may need to restart the kernel to use updated packages.\n"
     ]
    },
    {
     "name": "stderr",
     "output_type": "stream",
     "text": [
      "WARNING: You are using pip version 21.2.3; however, version 25.0.1 is available.\n",
      "You should consider upgrading via the 'C:\\Users\\Brian\\OneDrive - University of Witwatersrand\\Desktop\\off_the_grid\\projects\\ebook_object_detection\\chapters\\kidney_stones\\venv\\Scripts\\python.exe -m pip install --upgrade pip' command.\n"
     ]
    }
   ],
   "source": [
    "%pip install tabulate"
   ]
  },
  {
   "cell_type": "code",
   "execution_count": 2,
   "id": "e4dd4824-8305-4ff5-89c1-10ca59eeb5b9",
   "metadata": {},
   "outputs": [
    {
     "name": "stdout",
     "output_type": "stream",
     "text": [
      "+-----------+--------------------+--------------------+--------------------+--------------------+\n",
      "| Dataset   |   Number of Images |   Number of Labels | Total Image Size   | Total Label Size   |\n",
      "+===========+====================+====================+====================+====================+\n",
      "| Train     |               1054 |               1054 | 16.43 MB           | 0.13 MB            |\n",
      "+-----------+--------------------+--------------------+--------------------+--------------------+\n",
      "| Test      |                123 |                123 | 2.03 MB            | 0.01 MB            |\n",
      "+-----------+--------------------+--------------------+--------------------+--------------------+\n",
      "| Valid     |                123 |                123 | 2.05 MB            | 0.02 MB            |\n",
      "+-----------+--------------------+--------------------+--------------------+--------------------+\n"
     ]
    }
   ],
   "source": [
    "import os\n",
    "from tabulate import tabulate\n",
    "\n",
    "# Define the path to the data directory\n",
    "data_dir = 'data'\n",
    "sets = ['train', 'test', 'valid']\n",
    "\n",
    "# Initialize a summary list to store the data for tabulation\n",
    "data_summary = []\n",
    "\n",
    "# Function to get the total file size and count of files in a directory\n",
    "def get_data_size(directory):\n",
    "    total_size = 0\n",
    "    total_files = 0\n",
    "    for dirpath, dirnames, filenames in os.walk(directory):\n",
    "        total_files += len(filenames)\n",
    "        total_size += sum(os.path.getsize(os.path.join(dirpath, f)) for f in filenames)\n",
    "    return total_files, total_size\n",
    "\n",
    "# Gather the data size information for each dataset\n",
    "for data_set in sets:\n",
    "    images_dir = os.path.join(data_dir, data_set, 'images')\n",
    "    labels_dir = os.path.join(data_dir, data_set, 'labels')\n",
    "\n",
    "    # Get the number of image files and their total size\n",
    "    num_image_files, image_total_size = get_data_size(images_dir)\n",
    "    \n",
    "    # Get the number of label files and their total size\n",
    "    num_label_files, label_total_size = get_data_size(labels_dir)\n",
    "    \n",
    "    # Add the data summary for the current dataset\n",
    "    data_summary.append([\n",
    "        data_set.capitalize(),\n",
    "        num_image_files,\n",
    "        num_label_files,\n",
    "        f\"{image_total_size / (1024 * 1024):.2f} MB\",  # Convert bytes to MB\n",
    "        f\"{label_total_size / (1024 * 1024):.2f} MB\"  # Convert bytes to MB\n",
    "    ])\n",
    "\n",
    "# Define the table headers\n",
    "headers = [\"Dataset\", \"Number of Images\", \"Number of Labels\", \"Total Image Size\", \"Total Label Size\"]\n",
    "\n",
    "# Print the table\n",
    "print(tabulate(data_summary, headers=headers, tablefmt=\"grid\"))"
   ]
  }
 ],
 "metadata": {
  "kernelspec": {
   "display_name": "Python 3 (ipykernel)",
   "language": "python",
   "name": "python3"
  },
  "language_info": {
   "codemirror_mode": {
    "name": "ipython",
    "version": 3
   },
   "file_extension": ".py",
   "mimetype": "text/x-python",
   "name": "python",
   "nbconvert_exporter": "python",
   "pygments_lexer": "ipython3",
   "version": "3.10.0"
  }
 },
 "nbformat": 4,
 "nbformat_minor": 5
}
